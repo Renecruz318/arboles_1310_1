{
  "nbformat": 4,
  "nbformat_minor": 0,
  "metadata": {
    "colab": {
      "name": "arboles_1310.ipynb",
      "provenance": [],
      "authorship_tag": "ABX9TyMYvRy+KEMz+6vhHgXWBEgJ",
      "include_colab_link": true
    },
    "kernelspec": {
      "name": "python3",
      "display_name": "Python 3"
    },
    "language_info": {
      "name": "python"
    }
  },
  "cells": [
    {
      "cell_type": "markdown",
      "metadata": {
        "id": "view-in-github",
        "colab_type": "text"
      },
      "source": [
        "<a href=\"https://colab.research.google.com/github/Renecruz318/arboles_1310_1/blob/main/arboles_1310.ipynb\" target=\"_parent\"><img src=\"https://colab.research.google.com/assets/colab-badge.svg\" alt=\"Open In Colab\"/></a>"
      ]
    },
    {
      "cell_type": "code",
      "metadata": {
        "id": "sN7DK3rjCSWv"
      },
      "source": [
        "class NodoBinario:\n",
        "    def __init__( self, value, left=None, rigth=None ):\n",
        "        self.data = value\n",
        "        self.left = left\n",
        "        self.rigth = rigth\n",
        "\n",
        "class NodoTernario:\n",
        "    def __init__( self, value, left=None, center=None, rigth=None ):\n",
        "        self.data = value\n",
        "        self.left = left\n",
        "        self.center = center\n",
        "        self.rigth = rigth"
      ],
      "execution_count": 1,
      "outputs": []
    },
    {
      "cell_type": "code",
      "metadata": {
        "colab": {
          "base_uri": "https://localhost:8080/"
        },
        "id": "AyOitXaqCN6W",
        "outputId": "bf4f48bf-5f00-4c45-a579-a8ac4e67f92e"
      },
      "source": [
        "arbol1 = NodoBinario(\"R\", NodoBinario(\"C\"), NodoBinario(\"H\"))\n",
        "print(arbol1.rigth.data)\n",
        "\n",
        "arbol2 = NodoTernario(4, NodoTernario(3,NodoTernario(5,left=NodoTernario(2)),NodoTernario(5), NodoTernario(2)), None, NodoTernario(5) )\n",
        "print(arbol2.left.rigth.data)\n",
        "print(arbol2.data)\n",
        "print(arbol2.left.center.data)\n",
        "print(arbol2.rigth.left)"
      ],
      "execution_count": 2,
      "outputs": [
        {
          "output_type": "stream",
          "name": "stdout",
          "text": [
            "H\n",
            "2\n",
            "4\n",
            "5\n",
            "None\n"
          ]
        }
      ]
    },
    {
      "cell_type": "code",
      "metadata": {
        "colab": {
          "base_uri": "https://localhost:8080/"
        },
        "id": "M3-_4FTcHQ_G",
        "outputId": "0ac27831-cf0a-4742-c38c-afc297ee55c6"
      },
      "source": [
        "root = NodoBinario(\"Santi\",None,NodoBinario(\"Jesus\",NodoBinario(\"Pedro\", None, NodoBinario(\"Pedro jr\"))))\n",
        "print(root.rigth.left.rigth.data)"
      ],
      "execution_count": 3,
      "outputs": [
        {
          "output_type": "stream",
          "name": "stdout",
          "text": [
            "Pedro jr\n"
          ]
        }
      ]
    },
    {
      "cell_type": "code",
      "metadata": {
        "id": "vOdzvwPLBUtY"
      },
      "source": [
        "class NodoBinario:\n",
        "    def __init__( self, value, left=None, rigth=None ):\n",
        "        self.data = value\n",
        "        self.left = left\n",
        "        self.rigth = rigth\n",
        "\n",
        "class BinarySearchTree:\n",
        "    def __init__( self ):\n",
        "        self.root = None\n",
        "\n",
        "    def insert( self, value ):\n",
        "        if self.root == None:\n",
        "            self.root = NodoBinario( value )\n",
        "        else:\n",
        "            self.__insert_nodo( self.root , value )\n",
        "        \n",
        "    def __insert_nodo( self, nodo, value):\n",
        "        if nodo.data == value:\n",
        "            pass\n",
        "        elif value < nodo.data: #ir a la izquierda\n",
        "            if nodo.left == None:\n",
        "                nodo.left = NodoBinario( value)\n",
        "            else:\n",
        "                self.__insert_nodo( nodo.left, value )\n",
        "        else: #ir a la derecha\n",
        "            if nodo.rigth == None:\n",
        "                nodo.rigth = NodoBinario( value)\n",
        "            else: \n",
        "                self.__insert_nodo( nodo.rigth, value)\n",
        "\n",
        "    def transversal( self, formato = \"posorden\"):\n",
        "        if formato == \"posorden\":\n",
        "            self.recorrido_pos( self.root )\n",
        "        elif formato == \"preorden\":\n",
        "            self.recorrido_pre( self.root )\n",
        "        else: #inorden\n",
        "            self.recorrido_in( self.root )\n",
        "        print()\n",
        "    def recorrido_pos( self, nodo ):\n",
        "        if nodo != None:\n",
        "            self.recorrido_pos( nodo.left )\n",
        "            self.recorrido_pos( nodo.rigth )\n",
        "            print( str(nodo.data), end=\" , \")\n",
        "    \n",
        "    def recorrido_pre( self, nodo ):\n",
        "        if nodo != None:\n",
        "            print( str(nodo.data), end=\" , \")\n",
        "            self.recorrido_pre( nodo.left )\n",
        "            self.recorrido_pre( nodo.rigth )\n",
        "\n",
        "    def recorrido_in( self, nodo ):\n",
        "        if nodo != None:\n",
        "            self.recorrido_in( nodo.left )\n",
        "            print( str(nodo.data), end=\" , \")\n",
        "            self.recorrido_in( nodo.rigth )\n",
        "            \n",
        "    def __search( self, nodo, value):\n",
        "        if nodo.data == None:\n",
        "            print(\"El dato no existe en el arbol\")\n",
        "            return None\n",
        "        elif nodo.data == value:\n",
        "            print(\"Encontrado\")\n",
        "            return nodo\n",
        "        elif value < nodo.data:\n",
        "            return self.__buscar( nodo.left, value )\n",
        "        else:\n",
        "            return self.__buscar( nodo.rigth, value)"
      ],
      "execution_count": 23,
      "outputs": []
    },
    {
      "cell_type": "code",
      "metadata": {
        "colab": {
          "base_uri": "https://localhost:8080/"
        },
        "id": "Lqya8cefEMz1",
        "outputId": "a2969f3c-3391-4448-feaa-ac08773fe239"
      },
      "source": [
        "arb1 = BinarySearchTree()\n",
        "arb1.insert(60)\n",
        "arb1.insert(30)\n",
        "arb1.insert(15)\n",
        "arb1.insert(40)\n",
        "arb1.transversal(\"posorden\")\n",
        "arb1.transversal(\"preorden\")\n",
        "arb1.transversal(\"inorden\")"
      ],
      "execution_count": 24,
      "outputs": [
        {
          "output_type": "stream",
          "name": "stdout",
          "text": [
            "15 , 40 , 30 , 60 , \n",
            "60 , 30 , 15 , 40 , \n",
            "15 , 30 , 40 , 60 , \n"
          ]
        }
      ]
    }
  ]
}